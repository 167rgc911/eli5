{
 "cells": [
  {
   "cell_type": "code",
   "execution_count": 1,
   "metadata": {
    "collapsed": true
   },
   "outputs": [],
   "source": [
    "from sklearn.datasets import load_iris\n",
    "iris = load_iris()"
   ]
  },
  {
   "cell_type": "code",
   "execution_count": 3,
   "metadata": {
    "collapsed": false
   },
   "outputs": [
    {
     "name": "stderr",
     "output_type": "stream",
     "text": [
      "/Users/kostia/shub/memex/eli5/venv/lib/python3.5/site-packages/scipy/linalg/basic.py:884: RuntimeWarning: internal gelsd driver lwork query error, required iwork dimension not returned. This is likely the result of LAPACK bug 0038, fixed in LAPACK 3.2.2 (released July 21, 2010). Falling back to 'gelss' driver.\n",
      "  warnings.warn(mesg, RuntimeWarning)\n"
     ]
    },
    {
     "data": {
      "text/plain": [
       "LinearRegression(copy_X=True, fit_intercept=True, n_jobs=1, normalize=False)"
      ]
     },
     "execution_count": 3,
     "metadata": {},
     "output_type": "execute_result"
    }
   ],
   "source": [
    "from sklearn.linear_model import LinearRegression as Reg\n",
    "reg = Reg()\n",
    "reg.fit(iris.data, iris.target)"
   ]
  },
  {
   "cell_type": "code",
   "execution_count": 4,
   "metadata": {
    "collapsed": false
   },
   "outputs": [],
   "source": [
    "from eli5.sklearn import explain_weights_sklearn"
   ]
  },
  {
   "cell_type": "code",
   "execution_count": 10,
   "metadata": {
    "collapsed": false
   },
   "outputs": [
    {
     "data": {
      "text/html": [
       "\n",
       "    <style>\n",
       "    table.eli5-weights tr:hover {\n",
       "        filter: brightness(85%);\n",
       "    }\n",
       "</style>\n",
       "\n",
       "\n",
       "\n",
       "    \n",
       "\n",
       "    \n",
       "\n",
       "    \n",
       "        \n",
       "\n",
       "    <p>\n",
       "        <b>\n",
       "            \n",
       "                setosa\n",
       "            \n",
       "        </b>\n",
       "        \n",
       "        top features\n",
       "    </p>\n",
       "\n",
       "    \n",
       "        \n",
       "            \n",
       "    <table class=\"eli5-weights\" style=\"border-collapse: collapse; border: none;\">\n",
       "        <thead>\n",
       "        <tr style=\"border: none;\">\n",
       "            <th style=\"padding: 0 1em 0 0.5em; text-align: right; border: none;\">Weight</th>\n",
       "            <th style=\"padding: 0 0.5em 0 0.5em; text-align: left; border: none;\">Feature</th>\n",
       "        </tr>\n",
       "        </thead>\n",
       "        <tbody>\n",
       "        \n",
       "\n",
       "            \n",
       "                <tr style=\"background-color: hsl(120, 100.00%, 80.00%); border: none;\">\n",
       "    <td style=\"padding: 0 1em 0 0.5em; text-align: right; border: none;\">\n",
       "        +0.610\n",
       "    </td>\n",
       "    <td style=\"padding: 0 0.5em 0 0.5em; text-align: left; border: none;\">\n",
       "        petal width (cm)\n",
       "    </td>\n",
       "</tr>\n",
       "            \n",
       "                <tr style=\"background-color: hsl(120, 100.00%, 89.99%); border: none;\">\n",
       "    <td style=\"padding: 0 1em 0 0.5em; text-align: right; border: none;\">\n",
       "        +0.227\n",
       "    </td>\n",
       "    <td style=\"padding: 0 0.5em 0 0.5em; text-align: left; border: none;\">\n",
       "        petal length (cm)\n",
       "    </td>\n",
       "</tr>\n",
       "            \n",
       "                <tr style=\"background-color: hsl(120, 100.00%, 91.09%); border: none;\">\n",
       "    <td style=\"padding: 0 1em 0 0.5em; text-align: right; border: none;\">\n",
       "        +0.192\n",
       "    </td>\n",
       "    <td style=\"padding: 0 0.5em 0 0.5em; text-align: left; border: none;\">\n",
       "        &lt;BIAS&gt;\n",
       "    </td>\n",
       "</tr>\n",
       "            \n",
       "            \n",
       "\n",
       "            \n",
       "            \n",
       "                <tr style=\"background-color: hsl(0, 100.00%, 96.81%); border: none;\">\n",
       "    <td style=\"padding: 0 1em 0 0.5em; text-align: right; border: none;\">\n",
       "        -0.044\n",
       "    </td>\n",
       "    <td style=\"padding: 0 0.5em 0 0.5em; text-align: left; border: none;\">\n",
       "        sepal width (cm)\n",
       "    </td>\n",
       "</tr>\n",
       "            \n",
       "                <tr style=\"background-color: hsl(0, 100.00%, 93.98%); border: none;\">\n",
       "    <td style=\"padding: 0 1em 0 0.5em; text-align: right; border: none;\">\n",
       "        -0.110\n",
       "    </td>\n",
       "    <td style=\"padding: 0 0.5em 0 0.5em; text-align: left; border: none;\">\n",
       "        sepal length (cm)\n",
       "    </td>\n",
       "</tr>\n",
       "            \n",
       "\n",
       "        \n",
       "        </tbody>\n",
       "    </table>\n",
       "\n",
       "        \n",
       "    \n",
       "\n",
       "    \n",
       "\n",
       "\n",
       "    \n",
       "\n",
       "    \n",
       "\n",
       "    \n",
       "\n",
       "\n",
       "    \n",
       "\n",
       "    \n",
       "\n",
       "    \n",
       "\n",
       "    \n",
       "\n",
       "    \n",
       "\n",
       "\n",
       "    \n",
       "\n",
       "    \n",
       "\n",
       "    \n",
       "\n",
       "    \n",
       "\n",
       "    \n",
       "\n",
       "\n",
       "\n"
      ],
      "text/plain": [
       "Explanation(estimator='LinearRegression(copy_X=True, fit_intercept=True, n_jobs=1, normalize=False)', description=\"\\nFeatures with largest coefficients.\\nCaveats:\\n1. Be careful with features which are not\\n   independent - weights don't show their importance.\\n2. If scale of input features is different then scale of coefficients\\n   will also be different, making direct comparison between coefficient values\\n   incorrect.\\n3. Depending on regularization, rare features sometimes may have high\\n   coefficients; this doesn't mean they contribute much to the\\n   classification result for most examples.\\n\", error=None, method='linear model', is_regression=True, targets=[TargetExplanation(target='setosa', feature_weights=FeatureWeights(pos=[('petal width (cm)', 0.6098941197163873), ('petal length (cm)', 0.2270013821719036), ('<BIAS>', 0.19208399482813965)], neg=[('sepal length (cm)', -0.10974146329308673), ('sepal width (cm)', -0.044240446717651649)], pos_remaining=0, neg_remaining=0), proba=None, score=None, weighted_spans=None)], feature_importances=None, decision_tree=None)"
      ]
     },
     "execution_count": 10,
     "metadata": {},
     "output_type": "execute_result"
    }
   ],
   "source": [
    "expl = explain_weights_sklearn(reg, target_names=iris.target_names, feature_names=iris.feature_names)\n",
    "expl"
   ]
  },
  {
   "cell_type": "code",
   "execution_count": 8,
   "metadata": {
    "collapsed": false
   },
   "outputs": [
    {
     "name": "stdout",
     "output_type": "stream",
     "text": [
      "Explained as: linear model\n",
      "\n",
      "Features with largest coefficients.\n",
      "Caveats:\n",
      "1. Be careful with features which are not\n",
      "   independent - weights don't show their importance.\n",
      "2. If scale of input features is different then scale of coefficients\n",
      "   will also be different, making direct comparison between coefficient values\n",
      "   incorrect.\n",
      "3. Depending on regularization, rare features sometimes may have high\n",
      "   coefficients; this doesn't mean they contribute much to the\n",
      "   classification result for most examples.\n",
      "\n",
      "'setosa' top features\n",
      "---------------------------\n",
      "  +0.610  petal width (cm) \n",
      "  +0.227  petal length (cm)\n",
      "  +0.192  <BIAS>           \n",
      "  -0.044  sepal width (cm) \n",
      "  -0.110  sepal length (cm)\n",
      "\n"
     ]
    }
   ],
   "source": [
    "from eli5.formatters import format_as_text\n",
    "print(format_as_text(expl))"
   ]
  }
 ],
 "metadata": {
  "kernelspec": {
   "display_name": "Python 3",
   "language": "python",
   "name": "python3"
  },
  "language_info": {
   "codemirror_mode": {
    "name": "ipython",
    "version": 3
   },
   "file_extension": ".py",
   "mimetype": "text/x-python",
   "name": "python",
   "nbconvert_exporter": "python",
   "pygments_lexer": "ipython3",
   "version": "3.5.1"
  }
 },
 "nbformat": 4,
 "nbformat_minor": 1
}
